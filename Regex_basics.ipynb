{
  "nbformat": 4,
  "nbformat_minor": 0,
  "metadata": {
    "colab": {
      "provenance": []
    },
    "kernelspec": {
      "name": "python3",
      "display_name": "Python 3"
    },
    "language_info": {
      "name": "python"
    }
  },
  "cells": [
    {
      "cell_type": "code",
      "execution_count": null,
      "metadata": {
        "id": "XIPvp0FR7LyJ",
        "colab": {
          "base_uri": "https://localhost:8080/"
        },
        "outputId": "c5a66934-a7c1-4f2d-be29-35415cc738f8"
      },
      "outputs": [
        {
          "output_type": "execute_result",
          "data": {
            "text/plain": [
              "'A regex is a special sequence, that is used in a string, to extract a part of the string. Detect a particular pattern or split into a few patterns.'"
            ],
            "application/vnd.google.colaboratory.intrinsic+json": {
              "type": "string"
            }
          },
          "metadata": {},
          "execution_count": 1
        }
      ],
      "source": [
        "'''A regex is a special sequence, that is used in a string, to extract a part of the string. Detect a particular pattern or split into a few patterns.\n",
        "Re module searches a given pattern in python'''\n",
        "'''Uses - phone, email verification etc. Web scraping - to extract data.'''"
      ]
    },
    {
      "cell_type": "code",
      "source": [
        "import re"
      ],
      "metadata": {
        "id": "hhhKUPaqL_JX"
      },
      "execution_count": null,
      "outputs": []
    },
    {
      "cell_type": "code",
      "source": [
        "#special characters\n",
        "'''\\ - drop special meaning of char\n",
        "[] -  represent a character class\n",
        "^ beginning\n",
        "$ ending\n",
        ". any char except new line\n",
        "| Means OR - matches with characters that are seperated by it\n",
        "? matches zero or one occurances\n",
        "* Any number of occurances\n",
        "+ one or more times\n",
        "{} The number occurances of a preceding regex to match\n",
        "() Enclose a group of Regex\n",
        "'''"
      ],
      "metadata": {
        "id": "WfdWs0MzL_3I"
      },
      "execution_count": null,
      "outputs": []
    },
    {
      "cell_type": "code",
      "source": [
        "import re\n",
        "string = 'jishnusaurav12@gmail.com'\n",
        "match1=re.search(r\".\",string )\n",
        "print(match1)"
      ],
      "metadata": {
        "colab": {
          "base_uri": "https://localhost:8080/"
        },
        "id": "G9_TBXxBOP8z",
        "outputId": "e27623c3-546c-4e0b-cb38-81c8e599fc60"
      },
      "execution_count": null,
      "outputs": [
        {
          "output_type": "stream",
          "name": "stdout",
          "text": [
            "<re.Match object; span=(0, 1), match='j'>\n"
          ]
        }
      ]
    },
    {
      "cell_type": "code",
      "source": [
        "import re\n",
        "string = 'jishnusaurav12@gmail.com'\n",
        "match1=re.search(r\"^jishnu\",string )\n",
        "print(match1)"
      ],
      "metadata": {
        "colab": {
          "base_uri": "https://localhost:8080/"
        },
        "id": "M6MMm2rrOwPe",
        "outputId": "fb47c741-20e3-4926-b929-c52f653526a4"
      },
      "execution_count": null,
      "outputs": [
        {
          "output_type": "stream",
          "name": "stdout",
          "text": [
            "<re.Match object; span=(0, 6), match='jishnu'>\n"
          ]
        }
      ]
    },
    {
      "cell_type": "code",
      "source": [
        "import re\n",
        "string = 'jishnusaurav12@gmail.com'\n",
        "match1=re.search(r\"com$\",string )\n",
        "print(match1)"
      ],
      "metadata": {
        "id": "wih2Zw7OPIWJ",
        "colab": {
          "base_uri": "https://localhost:8080/"
        },
        "outputId": "f5d5e42f-6357-4e87-d873-6ea8092a6149"
      },
      "execution_count": null,
      "outputs": [
        {
          "output_type": "stream",
          "name": "stdout",
          "text": [
            "<re.Match object; span=(21, 24), match='com'>\n"
          ]
        }
      ]
    },
    {
      "cell_type": "code",
      "source": [
        "import re\n",
        "string = 'jishnusaurav12@gmail.com'\n",
        "match1=re.search(r\"j|s\",string )\n",
        "print(match1)"
      ],
      "metadata": {
        "colab": {
          "base_uri": "https://localhost:8080/"
        },
        "id": "9vaOYVHmQ4lG",
        "outputId": "46a8ba02-febb-4238-b363-c2207a205030"
      },
      "execution_count": null,
      "outputs": [
        {
          "output_type": "stream",
          "name": "stdout",
          "text": [
            "<re.Match object; span=(0, 1), match='j'>\n"
          ]
        }
      ]
    },
    {
      "cell_type": "code",
      "source": [
        "import re\n",
        "string = 'jishnusaurav12@gmail.com'\n",
        "match1=re.search(r\"saurav|penny\",string )\n",
        "print(match1)"
      ],
      "metadata": {
        "colab": {
          "base_uri": "https://localhost:8080/"
        },
        "id": "MbnToS8jSJ-I",
        "outputId": "d3715d38-dff8-47bf-a256-93667a645017"
      },
      "execution_count": null,
      "outputs": [
        {
          "output_type": "stream",
          "name": "stdout",
          "text": [
            "<re.Match object; span=(6, 12), match='saurav'>\n"
          ]
        }
      ]
    },
    {
      "cell_type": "code",
      "source": [
        "import re\n",
        "string = 'jishnusaurav12@gmail.com'\n",
        "match1=re.search(r\"a?\",string )\n",
        "print(match1)"
      ],
      "metadata": {
        "id": "iLkTShz_Xc26",
        "colab": {
          "base_uri": "https://localhost:8080/"
        },
        "outputId": "74250110-3dcc-420f-db0a-0876821f8f33"
      },
      "execution_count": null,
      "outputs": [
        {
          "output_type": "stream",
          "name": "stdout",
          "text": [
            "<re.Match object; span=(0, 0), match=''>\n"
          ]
        }
      ]
    },
    {
      "cell_type": "code",
      "source": [
        "text = \"jishnu, jiish, Raj\"\n",
        "matches = re.findall(r\"ji+\", text)\n",
        "print(\"Matches:\", matches)"
      ],
      "metadata": {
        "colab": {
          "base_uri": "https://localhost:8080/"
        },
        "id": "R53EI1DUPbpE",
        "outputId": "22b8e4a0-7c09-4a64-af73-723a8adb1447"
      },
      "execution_count": null,
      "outputs": [
        {
          "output_type": "stream",
          "name": "stdout",
          "text": [
            "Matches: ['ji', 'jii']\n"
          ]
        }
      ]
    },
    {
      "cell_type": "code",
      "source": [
        "\n",
        "text = \"Raj Raaj Raaaj Raaaaj\"\n",
        "matches = re.findall(r\"Ra{3}\", text)\n",
        "print(\"Matches:\", matches)"
      ],
      "metadata": {
        "colab": {
          "base_uri": "https://localhost:8080/"
        },
        "id": "3Vj9n4gUoA1H",
        "outputId": "592565de-caca-4c3a-862e-7f4349baf24d"
      },
      "execution_count": null,
      "outputs": [
        {
          "output_type": "stream",
          "name": "stdout",
          "text": [
            "Matches: ['Raaa', 'Raaa']\n"
          ]
        }
      ]
    },
    {
      "cell_type": "code",
      "source": [
        "text = \"Raj Raaj Raaaj Raaaaj\"\n",
        "matches = re.findall(r\"(Ra)\", text)\n",
        "print(\"Matches:\", matches)"
      ],
      "metadata": {
        "colab": {
          "base_uri": "https://localhost:8080/"
        },
        "id": "6VbfwS6oq9kB",
        "outputId": "184ae54e-e6ed-4532-ae49-a28c621306f7"
      },
      "execution_count": null,
      "outputs": [
        {
          "output_type": "stream",
          "name": "stdout",
          "text": [
            "Matches: ['Ra', 'Ra', 'Ra', 'Ra']\n"
          ]
        }
      ]
    },
    {
      "cell_type": "code",
      "source": [
        "import re\n",
        "string = 'jishnusaurav12@gmail.com'\n",
        "match1=re.search(r\"[jc]\",string )\n",
        "print(match1)"
      ],
      "metadata": {
        "id": "oRLOgzFD9ioD",
        "outputId": "407b5c1d-b36b-4e3f-b24a-49b94e5c9f34",
        "colab": {
          "base_uri": "https://localhost:8080/"
        }
      },
      "execution_count": null,
      "outputs": [
        {
          "output_type": "stream",
          "name": "stdout",
          "text": [
            "<re.Match object; span=(0, 1), match='j'>\n"
          ]
        }
      ]
    },
    {
      "cell_type": "code",
      "source": [],
      "metadata": {
        "id": "6eZRwZ-9pxwe"
      },
      "execution_count": null,
      "outputs": []
    }
  ]
}